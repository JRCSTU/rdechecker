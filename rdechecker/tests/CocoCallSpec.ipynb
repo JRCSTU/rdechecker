{
 "cells": [
  {
   "cell_type": "code",
   "execution_count": null,
   "metadata": {},
   "outputs": [],
   "source": [
    "def list_rule(*rule_spec):\n",
    "    case rule_spec:\n",
    "        match (rule is str, *args, {**kwds}):\n",
    "            print(1, rule, args, kwds)\n",
    "        match (rule is str, *args):\n",
    "            print(2, rule, args, {})\n",
    "    else:\n",
    "        raise Exception(\"Invalid list-rule syntax: {}\".format(rule_spec))\n",
    "\n",
    "list_rule('req',2,3, {1:2})\n",
    "list_rule('req',5,'h')\n",
    "list_rule('req')"
   ]
  },
  {
   "cell_type": "code",
   "execution_count": null,
   "metadata": {},
   "outputs": [],
   "source": [
    "def dict_rule(**rule_spec):\n",
    "    case rule_spec:\n",
    "        match {'rule': rule is str}:\n",
    "            print(1, rule, [], {})\n",
    "        match {'rule': rule is str, 'args': [*args]}:\n",
    "            print(21, rule, args, {})\n",
    "        match {'rule': rule is str, 'kwds': {**kwds}}:\n",
    "            print(22, rule, [], kwds)\n",
    "        match {'rule': rule is str, 'args': [*args], 'kwds': {**kwds}}:\n",
    "            print(3, rule, args, kwds)\n",
    "    else:\n",
    "        raise Exception(\"Invalid dict-rule syntax: {}\".format(rule_spec))\n",
    "\n",
    "dict_rule(rule='rgex')\n",
    "dict_rule(rule='rgex', args=[1])\n",
    "dict_rule(rule='rgex', args=[1], kwds={1:1})\n",
    "dict_rule(rule='rgex', kwds={1:1})"
   ]
  },
  {
   "cell_type": "code",
   "execution_count": null,
   "metadata": {
    "scrolled": false
   },
   "outputs": [],
   "source": [
    "def rule(rule_spec):\n",
    "    case rule_spec:\n",
    "        match r is str:\n",
    "            print(10, r, [], {})\n",
    "        match [*r]:\n",
    "            list_rule(*r)\n",
    "        match {**r}:\n",
    "            dict_rule(*r)\n",
    "    else:\n",
    "        raise Exception(\"Invalid rule syntax: {}\".format(rule_spec))\n",
    "    return  \n",
    "\n",
    "rule(['ggg'])\n",
    "rule({'func': 'ggg'})\n",
    "rule('func')"
   ]
  },
  {
   "cell_type": "code",
   "execution_count": null,
   "metadata": {},
   "outputs": [],
   "source": [
    "def parse_rule_spec(rule_spec, no_recurse=False):\n",
    "    case rule_spec:\n",
    "        match rule is str:\n",
    "            #print(0, rule, [], {})\n",
    "            return (rule, [], {})\n",
    "\n",
    "        match (rule is str, [*args] is (list, tuple), {**kwds}):\n",
    "            #print(10, rule, args, kwds)\n",
    "            return (rule, args, kwds)\n",
    "        match (rule is str, [*args] is (list, tuple)):\n",
    "            #print(20, rule, args, {})\n",
    "            return (rule, args, {})\n",
    "        match (rule is str, ):\n",
    "            #print(30, rule, [], {})\n",
    "            return (rule, [], {})\n",
    "\n",
    "        match {'rule': rule is str}:\n",
    "            #print(110, rule, [], {})\n",
    "            return (rule, [], {})\n",
    "        match {'rule': rule is str, 'args': [*args] is (list, tuple)}:\n",
    "            #print(121, rule, args, {})\n",
    "            return (rule, args, {})\n",
    "        match {'rule': rule is str, 'kwds': {**kwds}}:\n",
    "            #print(122, rule, [], kwds)\n",
    "            return (rule, [], kwds)\n",
    "        match {'rule': rule is str, 'args': [*args] is (list, tuple), 'kwds': {**kwds}}:\n",
    "            #print(130, rule, args, kwds)\n",
    "            return (rule, args, kwds)\n",
    "\n",
    "        ## Attempt parsing them as multi-rules,\n",
    "        #  but descend only 1 level (to protect config-user).\n",
    "        #\n",
    "        match rule_specs is (list, tuple) if not no_recurse:\n",
    "            return [parse_rule_spec(r, no_recurse=True) \n",
    "                    for r in rule_specs]\n",
    "            \n",
    "    else:\n",
    "        raise Exception(\"Invalid rule syntax: {}\".format(rule_spec))\n",
    "\n",
    "assert parse_rule_spec(['req', [2,3], {1:2}]) ==  ('req', [2, 3], {1: 2})\n",
    "assert parse_rule_spec(['req', [5,'h']]) ==  ('req', [5, 'h'], {})\n",
    "assert parse_rule_spec(['req']) ==  ('req', [], {})\n",
    "\n",
    "\n",
    "assert parse_rule_spec({'rule': 'rgex'}) ==  ('rgex', [], {})\n",
    "assert parse_rule_spec({'rule': 'rgex', 'args': [1]}) == ('rgex', [1], {})\n",
    "assert parse_rule_spec({'rule': 'rgex', 'args': [1], 'kwds': {1:1}}) == ('rgex', [1], {1: 1})\n",
    "assert parse_rule_spec({'rule': 'rgex', 'kwds': {1:1}}) == ('rgex', [], {1: 1})\n",
    "\n",
    "assert parse_rule_spec('frag') ==  ('frag', [], {})\n",
    "\n",
    "assert parse_rule_spec(['f1', 'f2', ['f3']]) == [('f1', [], {}), ('f2', [], {}), ('f3', [], {})]\n",
    "\n",
    "## ERRORS\n",
    "#parse_rule_spec(['g', 'jdd', 'h'])\n",
    "#parse_rule_spec(['f1', 'f2', [['f3']]])\n"
   ]
  },
  {
   "cell_type": "code",
   "execution_count": null,
   "metadata": {
    "collapsed": true
   },
   "outputs": [],
   "source": []
  }
 ],
 "metadata": {
  "kernelspec": {
   "display_name": "Coconut",
   "language": "coconut",
   "name": "coconut"
  }
 },
 "nbformat": 4,
 "nbformat_minor": 2
}
